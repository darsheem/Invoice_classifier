{
 "cells": [
  {
   "cell_type": "markdown",
   "metadata": {},
   "source": [
    "# Python project - Invoice classifier"
   ]
  },
  {
   "cell_type": "markdown",
   "metadata": {},
   "source": [
    "Imports"
   ]
  },
  {
   "cell_type": "code",
   "execution_count": 121,
   "metadata": {},
   "outputs": [],
   "source": [
    "import cv2\n",
    "import numpy as np\n",
    "import pytesseract\n",
    "from PIL import Image\n",
    "import re    #For regular expression\n",
    "import shutil    # For copying\n",
    "import os.path\n",
    "from nltk.stem import PorterStemmer\n",
    "import seaborn as sns\n",
    "import pandas as pd\n",
    "import matplotlib.pyplot as plt"
   ]
  },
  {
   "cell_type": "markdown",
   "metadata": {},
   "source": [
    "Path of working folder"
   ]
  },
  {
   "cell_type": "code",
   "execution_count": 122,
   "metadata": {},
   "outputs": [],
   "source": [
    "# Path of working folder on Disk\n",
    "src_path = \"./\"\n",
    "\n",
    "#For nltk creating instance like of PorterStemmer\n",
    "ps = PorterStemmer()"
   ]
  },
  {
   "cell_type": "markdown",
   "metadata": {},
   "source": [
    "Creating various directories- if not already existing"
   ]
  },
  {
   "cell_type": "code",
   "execution_count": 123,
   "metadata": {},
   "outputs": [],
   "source": [
    "# create directories for categories:\n",
    "\n",
    "if (not os.path.exists(\"./temp/\")):\n",
    "    os.mkdir(\"./temp/\")\n",
    "\n",
    "if (not os.path.exists(\"./output\")):\n",
    "    os.mkdir(\"./output\")\n",
    "    \n",
    "if (not os.path.exists(\"./output/food_bills\")):\n",
    "    os.mkdir(\"./output/food_bills\")\n",
    "if (not os.path.exists(\"./output/electricity_bills\")):\n",
    "    os.mkdir(\"./output/electricity_bills\")\n",
    "if (not os.path.exists(\"./output/phone_bills\")):\n",
    "    os.mkdir(\"./output/phone_bills\")\n",
    "if (not os.path.exists(\"./output/medicine_bills\")):\n",
    "    os.mkdir(\"./output/medicine_bills\")\n",
    "if (not os.path.exists(\"./output/school_bills\")):\n",
    "    os.mkdir(\"./output/school_bills\")"
   ]
  },
  {
   "cell_type": "markdown",
   "metadata": {},
   "source": [
    "Reading image through openCV and getting text from image using tesseract-OCR and pytesseract"
   ]
  },
  {
   "cell_type": "code",
   "execution_count": 124,
   "metadata": {},
   "outputs": [],
   "source": [
    "def get_img_text(img_path):\n",
    "    \n",
    "    # Read image with opencv\n",
    "    img = cv2.imread(img_path)\n",
    "\n",
    "    #Displaying the image\n",
    "    #cv2.imshow('Your selected image',img)\n",
    "    \n",
    "    # Convert to grayscale\n",
    "    img = cv2.cvtColor(img, cv2.COLOR_BGR2GRAY)\n",
    "\n",
    "    # Apply dilation and erosion to remove some noise\n",
    "    kernel = np.ones((1, 1), np.uint8)\n",
    "    img = cv2.dilate(img, kernel, iterations=1)\n",
    "    img = cv2.erode(img, kernel, iterations=1)\n",
    "\n",
    "    # Write image after removed noise\n",
    "    cv2.imwrite(f\"{src_path}/temp/removed_noise.png\", img)\n",
    "\n",
    "    # Write the image after apply opencv to do some ...\n",
    "    cv2.imwrite(f\"{src_path}/temp/thres.png\", img)\n",
    "\n",
    "    # Recognize text from the image with tesseract-ocr and pytesseract\n",
    "    result = pytesseract.image_to_string(Image.open(f\"{src_path}/temp/thres.png\"))\n",
    "\n",
    "    return result"
   ]
  },
  {
   "cell_type": "markdown",
   "metadata": {},
   "source": [
    "Reference lists initialization"
   ]
  },
  {
   "cell_type": "code",
   "execution_count": 125,
   "metadata": {},
   "outputs": [],
   "source": [
    "# reference lists\n",
    "food_list = ['food','restaur','restro','court','dine','tiffin','eateri','eat','cafe','cafeteria','drink','bar','grill','paneer','egg','fresh','farm','egg','chicken','paneer','coffe','tea','bread','chees','pizza','beer','tabl','soup','salad','dessert','cake']\n",
    "electricity_list = ['led','light','bulb','tubelight','electr','torrent','unit','consum','consumpt','read','energy','energi','power','meter']\n",
    "phone_list = ['number','mobil','telephon','phone','mobilephon','cellphon','landlin','airtel','jio','vodafon','lenovo','micromax','charg','charger','earphon','minut','hour','second','talktim','data','internet','messag','call','brand','handset','plan','tariff']\n",
    "medicine_list = ['pharmaci','medicin','hospit','medic','crocin','paracetamol','pharma','pharmaceut','blood','syrup','capsule','syp','cap']\n",
    "school_list = ['school','tution','fee','computer','admiss','colleg','transport','student','bus']"
   ]
  },
  {
   "cell_type": "code",
   "execution_count": 126,
   "metadata": {},
   "outputs": [],
   "source": [
    "main_food = 0\n",
    "main_electricity = 0\n",
    "main_phone = 0\n",
    "main_medicine = 0\n",
    "main_school = 0\n",
    "main_other = 0"
   ]
  },
  {
   "cell_type": "markdown",
   "metadata": {},
   "source": [
    "Splitting extracted text and also removing special characters"
   ]
  },
  {
   "cell_type": "code",
   "execution_count": 127,
   "metadata": {},
   "outputs": [],
   "source": [
    "def text_preprocessing(text_extracted):\n",
    "    \n",
    "    # replace special symbols by space by use of regular expression\n",
    "    clean_text = re.sub('[^A-Za-z0-9]+', ' ', text_extracted)\n",
    "    \n",
    "    #Converting text extracted to lower case and splitting by lines and space\n",
    "    clean_text = clean_text.lower()\n",
    "    clean_text_list = clean_text.split()\n",
    "    \n",
    "    #print(\"\\n\\nText after splitting by lines and space: \\n\", clean_text_list,\"\\n\")\n",
    "    \n",
    "    return clean_text_list"
   ]
  },
  {
   "cell_type": "markdown",
   "metadata": {},
   "source": [
    "Determine the category of the invoice"
   ]
  },
  {
   "cell_type": "code",
   "execution_count": 128,
   "metadata": {},
   "outputs": [],
   "source": [
    "def categorize_image(text_extracted):\n",
    "    \n",
    "    #print(f\"\\n\\nReference Lists are: \\n{food_list} \\n{electricity_list} \\n{phone_list} \\n{medicine_list} \\n{school_list}\")\n",
    "\n",
    "    clean_text_list = text_preprocessing(text_extracted)\n",
    "    \n",
    "    counter = {\n",
    "        'food' : 0,\n",
    "        'electricity' : 0,\n",
    "        'phone' : 0,\n",
    "        'medicine' : 0,\n",
    "        'school' : 0\n",
    "    }\n",
    "    \n",
    "    for word in clean_text_list:\n",
    "        #Stemming each word with nltk PorterStemmer\n",
    "        word = ps.stem(word)\n",
    "          \n",
    "        if word in food_list:\n",
    "            counter['food']+=1\n",
    "            #print(\"\\nFood list-\", word)\n",
    "        elif word in electricity_list:\n",
    "            counter['electricity']+=1\n",
    "            #print(\"\\nElectricity list-\", word)\n",
    "        elif word in phone_list:\n",
    "            counter['phone']+=1\n",
    "            #print(\"\\nPhone list-\", word)\n",
    "        elif word in medicine_list:\n",
    "            counter['medicine']+=1\n",
    "            #print(\"\\nMedicine list-\", word)\n",
    "        elif word in school_list:\n",
    "            counter['school']+=1\n",
    "            #print(\"\\nSchool list-\", word)\n",
    "        else:\n",
    "            #print(\".\", end='')\n",
    "            print(end='')\n",
    "        \n",
    "    #Finding which category has maximum keyword matches\n",
    "    predicted_category = max(counter, key=counter.get)\n",
    "    #print(f\"Max: {predicted_category} = {max(counter.values())}\")\n",
    "    \n",
    "    df = pd.DataFrame(columns=[\"Matches\"],index=counter.keys(),data=counter.values())\n",
    "    \n",
    "    return (predicted_category, df)\n",
    "    "
   ]
  },
  {
   "cell_type": "markdown",
   "metadata": {},
   "source": [
    "Once categorized storing images in different folders as per the category"
   ]
  },
  {
   "cell_type": "code",
   "execution_count": 129,
   "metadata": {},
   "outputs": [],
   "source": [
    "def save_output_copy(category, img_path):\n",
    "    \n",
    "    global main_food\n",
    "    #print(main_food,type(main_food))\n",
    "    global main_electricity\n",
    "    global main_phone\n",
    "    global main_medicine\n",
    "    global main_school\n",
    "    global main_other\n",
    "    \n",
    "    img_file_name = os.path.basename(img_path)\n",
    "    \n",
    "    if(category == 'food'):\n",
    "        print(\"\\nThis is a FOOD BILL...\")\n",
    "        main_food+=1\n",
    "        if (not os.path.exists(r\"./output/food_bills/\" + img_file_name)):\n",
    "            shutil.copy(img_path, r\"./output/food_bills/\")\n",
    "        else:\n",
    "            print(f\"File already exists at output location!! : {img_file_name} ******\")\n",
    "    \n",
    "    elif(category == 'electricity'):\n",
    "        print(\"\\nThis is an ELECTRICITY BILL...\")\n",
    "        main_electricity+=1\n",
    "        if (not os.path.exists(r\"./output/electricity_bills/\" + img_file_name)):\n",
    "            shutil.copy(img_path, r\"./output/electricity_bills/\")\n",
    "        else:\n",
    "            print(f\"File already exists at output location!! : {img_file_name} ******\")\n",
    "    \n",
    "    elif(category == 'phone'):\n",
    "        print(\"\\nThis is a PHONE BILL...\")\n",
    "        main_phone+=1\n",
    "        if (not os.path.exists(r\"./output/phone_bills/\" + img_file_name)):\n",
    "            shutil.copy(img_path, r\"./output/phone_bills/\")\n",
    "        else:\n",
    "            print(f\"File already exists at output location!! : {img_file_name} ******\")\n",
    "    \n",
    "    elif(category == 'medicine'):\n",
    "        print(\"\\nThis is a MEDICINE/PHARMACY BILL...\")\n",
    "        main_medicine+=1\n",
    "        if (not os.path.exists(r\"./output/medicine_bills/\" + img_file_name)):\n",
    "            shutil.copy(img_path, r\"./output/medicine_bills/\")\n",
    "        else:\n",
    "            print(f\"File already exists at output location!! : {img_file_name} ******\")\n",
    "    \n",
    "    elif(category == 'school'):\n",
    "        print(\"\\nThis is a SCHOOL FEE BILL...\")\n",
    "        main_school+=1\n",
    "        if (not os.path.exists(r\"./output/school_bills/\" + img_file_name)):\n",
    "            shutil.copy(img_path, r\"./output/school_bills/\")\n",
    "        else:\n",
    "            print(f\"File already exists at output location!! : {img_file_name} ******\")\n",
    "    else:\n",
    "        print(\"This is some other bill\")\n",
    "\n",
    "    print (f\"------ File copied in \\'./output/{category}_bills/\\' directory -------\")"
   ]
  },
  {
   "cell_type": "markdown",
   "metadata": {},
   "source": [
    "Visualizing each image using seaborn"
   ]
  },
  {
   "cell_type": "code",
   "execution_count": 130,
   "metadata": {},
   "outputs": [],
   "source": [
    "def visualize_prediction(df,img_name):\n",
    "    plt.figure()\n",
    "    plt.title(img_name,size=16)\n",
    "    plt.xlabel(\"Categories\")\n",
    "    sns.barplot(data=df, x=df.index, y='Matches')"
   ]
  },
  {
   "cell_type": "markdown",
   "metadata": {},
   "source": [
    "Visualizng total bills and their category "
   ]
  },
  {
   "cell_type": "code",
   "execution_count": 131,
   "metadata": {},
   "outputs": [],
   "source": [
    "def visualize_total_count(main_food,main_electricity,main_phone,main_medicine,main_school):\n",
    "    counter={\n",
    "        'total_food' : main_food,\n",
    "        'total_electricity' : main_electricity,\n",
    "        'total_phone' : main_phone,\n",
    "        'total_medicine' : main_medicine,\n",
    "        'total_school' : main_school\n",
    "    }\n",
    "    \n",
    "    df=pd.DataFrame(columns=[\"Total count\"],index=counter.keys(),data=counter.values())\n",
    "    \n",
    "    plt.figure()\n",
    "    plt.title(\"Total categorized bills\",size=20)\n",
    "    plt.xlabel(\"Categories\")\n",
    "    sns.barplot(data=df, x=df.index, y='Total count')"
   ]
  },
  {
   "cell_type": "markdown",
   "metadata": {},
   "source": [
    "Execution starts from here...\n",
    "Getting user input of invoices"
   ]
  },
  {
   "cell_type": "code",
   "execution_count": 132,
   "metadata": {},
   "outputs": [
    {
     "name": "stdout",
     "output_type": "stream",
     "text": [
      "-------------------INVOICE CLASSIFIER-------------------\n",
      "\n",
      "\n",
      "Enter folder name or image name: dataset/nbill7.jpg\n",
      "\n",
      "\n",
      "----------- Initiating (file) : Recognizing text from image ./dataset/nbill7.jpg -----------\n",
      "\n",
      "The text recognized from image is: \n",
      " DEMO PHARMA DISTRIBUTORS\n",
      "\n",
      "Pharmaceutical Distributors\n",
      "\n",
      "F-11, Roshanara Plaza, Roshanara Road,\n",
      "Delhi-110007 (India)\n",
      "\n",
      "Phone ; +91-11-23994444 (30 Line Fax : +91-11-43850066 E.Mail : Info@margcompusoft.com\n",
      "\n",
      "TAX INVOICE\n",
      "\n",
      "DLNo. :32132 208/218 TIN : 3456789012 CST No, : 3456789012\n",
      "M/s AHUJA MEDICINE CENTRE Invoice No.: 0036 Date :\n",
      "BUDHA BAZAR, Order No. :DG-2002 Date:\n",
      "DELHI L.R.No. : 131345 Date:\n",
      "Cases : 10\n",
      "\n",
      "BENGE 18 Transport : ABC TPT.\n",
      "TIN No 3213123, Due Date : 10-04-2004\n",
      "\n",
      "S| Product Packing | Mfr. | Batch Qty. Fred M.R.P. Rate|vat% Amount\n",
      "\n",
      "POLYBION SYP 100ML 100ML EMERK P| 562862000 10 18.82 | 15.26 42.50 152.60\n",
      "AMLOGARD 5MG. 10'S Puizer L| 02005016 3 0.00 | 39.50 |4.00 118.50\n",
      "BECOSULE 10X10, PHIZER L| 00739 6 115.10 | 101.90 |4.00 611.40\n",
      "AZMIN CAP. 10X10'S | RANBAXY! 1245, 3 150.00 | 100.00 |4.00 300.00\n",
      "BRUFOGESIC 10X10'S | SEAGULL) bt-124 10 250.00 |205.00 |4.00 | 2050.00\n",
      "COFREX SYRUP 6OML SEAGULL] BH-234 10 10.00 | 100.00 |4.00 1000.00\n",
      "LESS : SALES RETURN\n",
      "AMLOGARD 10MG 10'S PHIZERL| 1488, 3 0.00} 59.20 |4.00 177.60\n",
      "LESS : BRK/EXP RETURN\n",
      "AMLOGARD 5MG. PHIZERL| TEST 3 47,82 143.46\n",
      "BECOSULES SYRUP 120mI PHIZER L| IUKDIS 2 17.38 34.76\n",
      "ADD : REPLACEMENT\n",
      "BECOSULES SYRUP 120mI PHIZERL| 00555 17.38 |0. 312.84\n",
      "\n",
      " \n",
      "\n",
      " \n",
      "\n",
      " \n",
      "\n",
      " \n",
      "\n",
      " \n",
      "\n",
      " \n",
      "\n",
      " \n",
      "\n",
      " \n",
      "\n",
      " \n",
      "\n",
      " \n",
      "\n",
      " \n",
      "\n",
      " \n",
      "\n",
      "VAT 3634.13°4%=145.36 149.55°12.50% =18.69 S/R=-172.27, B/Exp=-133.66,Rep.=234.63 (Net Amt.=3.70 Tax<SUBJTOTAL 4189.52\n",
      "Item Discount 304.87\n",
      "Total 3884.65\n",
      "VAT 164.05\n",
      "FREIGHT 100.00\n",
      "INSURANCE 25.00\n",
      "Roundoff 0.30\n",
      "\n",
      "Rs. Four Thousand One Hundred Twenty Four Only GRAND TOTAL 4124.00\n",
      "\n",
      " \n",
      "\n",
      "Terms & Conditions\n",
      "\n",
      "Goods once sold will not be taken back or exchanged.\n",
      "\n",
      "Bills not paid due date will attract 24% interest. For DEMO PHARMA DISTRIBUTOR:\n",
      "All disputes subject to__Jurisdication only.\n",
      "\n",
      "Prescribed Sales Tax declaration will be given.\n",
      "\n",
      "Certified that the particulars given above are true and correct Checked By\n",
      "and the amount indicated represents the price actually charged. E.80.E. Authorised signatory\n",
      "------------------------------------------------------------------------------------------------------\n",
      "\n",
      "This is a MEDICINE/PHARMACY BILL...\n",
      "File already exists at output location!! : nbill7.jpg ******\n",
      "------ File copied in './output/medicine_bills/' directory -------\n"
     ]
    },
    {
     "data": {
      "image/png": "[encoded data removed]",
      "text/plain": [
       "<Figure size 432x288 with 1 Axes>"
      ]
     },
     "metadata": {
      "needs_background": "light"
     },
     "output_type": "display_data"
    }
   ],
   "source": [
    "global main_food\n",
    "#print(main_food,type(main_food))\n",
    "global main_electricity\n",
    "global main_phone\n",
    "global main_medicine\n",
    "global main_school\n",
    "global main_other\n",
    "    \n",
    "#while(True):\n",
    "print(\"-------------------INVOICE CLASSIFIER-------------------\")\n",
    "input_path = input(\"\\n\\nEnter folder name or image name: \")\n",
    "#print(input_path,\"\\n\",src_path+input_path)\n",
    "full_path = src_path + input_path\n",
    "\n",
    "#Checking if path exists\n",
    "if (os.path.exists(full_path)):\n",
    "    \n",
    "    #Checking if path is a directory\n",
    "    if(os.path.isdir(full_path)):\n",
    "        dir_list = os.listdir(full_path)\n",
    "        print(f\"\\n\\nFiles and directories in {full_path} are : \")  \n",
    "        print(dir_list)\n",
    "        \n",
    "        for i in dir_list:\n",
    "            if ('.jpg' in i or '.png' in i or '.bmp' in i or '.jpeg' in i or '.JPG' in i or '.PNG' in i):\n",
    "                print (f'\\n\\n---------- Initiating (directory) : Recognizing text from {i} ----------')\n",
    "                img_path = full_path + \"/\" + i\n",
    "\n",
    "                # run OCR to extract text from image\n",
    "                text_extracted = get_img_text(img_path)\n",
    "\n",
    "                # process the text to predict the category of the invoice\n",
    "                predicted_category, df = categorize_image(text_extracted)\n",
    "\n",
    "                # save output in categorized structure\n",
    "                save_output_copy(predicted_category, img_path)\n",
    "\n",
    "                # visualize using seaborn each image\n",
    "                visualize_prediction(df,i)\n",
    "\n",
    "            else:\n",
    "                print(\"Not a valid image file... Please try again \")\n",
    "                pass\n",
    "\n",
    "        #visualizing total categorized bills \n",
    "        visualize_total_count(main_food,main_electricity,main_phone,main_medicine,main_school)\n",
    "\n",
    "        print(\"\\n\\nTotal number of food bills: \", main_food)\n",
    "        print(\"Total number of electricity bills: \", main_electricity)\n",
    "        print(\"Total number of phone bills: \", main_phone)\n",
    "        print(\"Total number of medicine bills: \", main_medicine)\n",
    "        print(\"Total number of school bills: \", main_school)\n",
    "        #print(\"Other bills: \", main_other)\n",
    "\n",
    "    else:    \n",
    "        img_path = full_path\n",
    "        #Getting image file name\n",
    "        img_file_name = os.path.basename(img_path)\n",
    "    \n",
    "        #Checking if file is an image file\n",
    "        if ('.jpg' in img_file_name or '.png' in img_file_name or '.bmp' in img_file_name or '.jpeg' in img_file_name or '.JPG' in img_file_name or '.PNG' in img_file_name):\n",
    "            print (f'\\n\\n----------- Initiating (file) : Recognizing text from image {full_path} -----------')\n",
    "            \n",
    "            # run OCR to extract text from image\n",
    "            text_extracted = get_img_text(img_path)\n",
    "            print(\"\\nThe text recognized from image is: \\n\",text_extracted)\n",
    "            print(\"------------------------------------------------------------------------------------------------------\")\n",
    "\n",
    "            # process the text to predict the category of the invoice\n",
    "            predicted_category, df = categorize_image(text_extracted)\n",
    "\n",
    "            # save output in categorized structure\n",
    "            save_output_copy(predicted_category, img_path)\n",
    "\n",
    "            # visualize using seaborn\n",
    "            img_file_name = os.path.basename(img_path)   #To get image file name\n",
    "            visualize_prediction(df,img_file_name)\n",
    "\n",
    "        else:\n",
    "            print(\"Not a valid image file... Please try again later\")\n",
    "            \n",
    "else:\n",
    "    print(\"Path doesn't exist... Please try again later\")"
   ]
  },
  {
   "cell_type": "code",
   "execution_count": null,
   "metadata": {},
   "outputs": [],
   "source": []
  },
  {
   "cell_type": "code",
   "execution_count": null,
   "metadata": {},
   "outputs": [],
   "source": []
  }
 ],
 "metadata": {
  "kernelspec": {
   "display_name": "Python 3",
   "language": "python",
   "name": "python3"
  },
  "language_info": {
   "codemirror_mode": {
    "name": "ipython",
    "version": 3
   },
   "file_extension": ".py",
   "mimetype": "text/x-python",
   "name": "python",
   "nbconvert_exporter": "python",
   "pygments_lexer": "ipython3",
   "version": "3.7.4"
  }
 },
 "nbformat": 4,
 "nbformat_minor": 4
}
